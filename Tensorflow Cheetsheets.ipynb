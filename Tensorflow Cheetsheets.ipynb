{
 "cells": [
  {
   "cell_type": "markdown",
   "id": "cf184ad2",
   "metadata": {},
   "source": [
    "# TensorFlow CheetSheet"
   ]
  },
  {
   "cell_type": "code",
   "execution_count": 1,
   "id": "d76aa3e4",
   "metadata": {},
   "outputs": [
    {
     "name": "stderr",
     "output_type": "stream",
     "text": [
      "2021-11-02 14:40:53.520677: W tensorflow/stream_executor/platform/default/dso_loader.cc:64] Could not load dynamic library 'libcudart.so.11.0'; dlerror: libcudart.so.11.0: cannot open shared object file: No such file or directory\n",
      "2021-11-02 14:40:53.520760: I tensorflow/stream_executor/cuda/cudart_stub.cc:29] Ignore above cudart dlerror if you do not have a GPU set up on your machine.\n"
     ]
    },
    {
     "name": "stdout",
     "output_type": "stream",
     "text": [
      "2.6.0\n"
     ]
    }
   ],
   "source": [
    "import tensorflow as tf\n",
    "print(tf.__version__)"
   ]
  },
  {
   "cell_type": "code",
   "execution_count": 2,
   "id": "53cf61bf",
   "metadata": {},
   "outputs": [],
   "source": [
    "tf.compat.v1.disable_eager_execution() #what the fuck is this?"
   ]
  },
  {
   "cell_type": "code",
   "execution_count": 3,
   "id": "42dc71db",
   "metadata": {},
   "outputs": [
    {
     "name": "stderr",
     "output_type": "stream",
     "text": [
      "2021-11-02 14:41:14.392502: W tensorflow/stream_executor/platform/default/dso_loader.cc:64] Could not load dynamic library 'libcuda.so.1'; dlerror: libcuda.so.1: cannot open shared object file: No such file or directory\n",
      "2021-11-02 14:41:14.392612: W tensorflow/stream_executor/cuda/cuda_driver.cc:269] failed call to cuInit: UNKNOWN ERROR (303)\n",
      "2021-11-02 14:41:14.392734: I tensorflow/stream_executor/cuda/cuda_diagnostics.cc:156] kernel driver does not appear to be running on this host (biruk-Satellite-L855): /proc/driver/nvidia/version does not exist\n"
     ]
    },
    {
     "name": "stdout",
     "output_type": "stream",
     "text": [
      "The output is b'helloworld' \n"
     ]
    }
   ],
   "source": [
    "import tensorflow as tf\n",
    "x = tf.constant(\"hello\")\n",
    "y = tf.constant(\"world\")\n",
    "z = x+y\n",
    "with tf.compat.v1.Session() as sess:\n",
    "    outs = sess.run(z)\n",
    "print(f\"The output is {outs} \")  "
   ]
  },
  {
   "cell_type": "code",
   "execution_count": 4,
   "id": "4ff921ae",
   "metadata": {},
   "outputs": [
    {
     "name": "stdout",
     "output_type": "stream",
     "text": [
      "30 9 2 15.0\n"
     ]
    }
   ],
   "source": [
    "import tensorflow as tf\n",
    "x = tf.constant(5)\n",
    "y = tf.constant(6)\n",
    "z = tf.constant(4)\n",
    "#=========================\n",
    "mul = tf.multiply(x , y)\n",
    "summation = tf.add(x ,z)\n",
    "sub = tf.subtract(y , z)\n",
    "div = tf.divide(mul , sub)\n",
    "\n",
    "sess = tf.compat.v1.Session()\n",
    "mul_outs= sess.run(mul)\n",
    "sum_outs = sess.run(summation)\n",
    "sub_outs = sess.run(sub)\n",
    "div_outs = sess.run(div)\n",
    "sess.close()\n",
    "print(mul_outs , sum_outs , sub_outs , div_outs)\n"
   ]
  },
  {
   "cell_type": "code",
   "execution_count": 5,
   "id": "e599f9ac",
   "metadata": {},
   "outputs": [
    {
     "name": "stdout",
     "output_type": "stream",
     "text": [
      "<tensorflow.python.framework.ops.Graph object at 0x7eff8ae24970>\n",
      "<tensorflow.python.framework.ops.Graph object at 0x7eff8ae24880>\n"
     ]
    }
   ],
   "source": [
    "import tensorflow as tf\n",
    "x = tf.Graph()\n",
    "print(tf.compat.v1.get_default_graph())\n",
    "print(x)"
   ]
  },
  {
   "cell_type": "code",
   "execution_count": 6,
   "id": "92c01a46",
   "metadata": {},
   "outputs": [
    {
     "name": "stdout",
     "output_type": "stream",
     "text": [
      "False\n",
      "True\n"
     ]
    }
   ],
   "source": [
    "import tensorflow as tf\n",
    "a= tf.Graph()\n",
    "b = tf.constant(5)\n",
    "print(b.graph is a)\n",
    "print(b.graph is tf.compat.v1.get_default_graph())"
   ]
  },
  {
   "cell_type": "code",
   "execution_count": 7,
   "id": "a1c3dc72",
   "metadata": {},
   "outputs": [
    {
     "name": "stdout",
     "output_type": "stream",
     "text": [
      "True\n",
      "True\n",
      "False\n",
      "True\n",
      "True\n",
      "False\n",
      "True\n"
     ]
    }
   ],
   "source": [
    "import tensorflow as tf\n",
    "a = tf.Graph()\n",
    "b = tf.compat.v1.get_default_graph()\n",
    "c = tf.constant(5)\n",
    "print(b is tf.compat.v1.get_default_graph())\n",
    "with a.as_default():\n",
    "    print(a is tf.compat.v1.get_default_graph())\n",
    "    print(c.graph is a)\n",
    "    print(c.graph is b)\n",
    "    e = tf.constant(4)\n",
    "    print(e.graph is a)\n",
    "    print(b is tf.compat.v1.get_default_graph())\n",
    "print(b is tf.compat.v1.get_default_graph())"
   ]
  },
  {
   "cell_type": "code",
   "execution_count": 8,
   "id": "5953cb41",
   "metadata": {},
   "outputs": [
    {
     "name": "stdout",
     "output_type": "stream",
     "text": [
      "output=[5, 6, 4, 30, 9, 2, 15.0]\n",
      "5\n"
     ]
    }
   ],
   "source": [
    "import tensorflow as tf\n",
    "x = tf.constant(5)\n",
    "y = tf.constant(6)\n",
    "z = tf.constant(4)\n",
    "#=========================\n",
    "mul = tf.multiply(x , y)\n",
    "summation = tf.add(x ,z)\n",
    "sub = tf.subtract(y , z)\n",
    "div = tf.divide(mul , sub)\n",
    "\n",
    "with tf.compat.v1.Session() as sess:\n",
    "    fetches = [x , y , z , mul , summation , sub , div]\n",
    "    output= sess.run(fetches)\n",
    "print(\"output={}\".format(output)) \n",
    "print(output[0])"
   ]
  },
  {
   "cell_type": "code",
   "execution_count": 9,
   "id": "612eb261",
   "metadata": {},
   "outputs": [
    {
     "name": "stdout",
     "output_type": "stream",
     "text": [
      "Tensor(\"Const_6:0\", shape=(), dtype=int32)\n"
     ]
    }
   ],
   "source": [
    "import tensorflow as tf\n",
    "a = tf.constant(4.0)\n",
    "print(c) # (name of the tensor object , shape , datatype of the tensorobject)"
   ]
  },
  {
   "cell_type": "code",
   "execution_count": 10,
   "id": "9ff0828b",
   "metadata": {},
   "outputs": [
    {
     "name": "stdout",
     "output_type": "stream",
     "text": [
      "<dtype: 'float64'>\n"
     ]
    }
   ],
   "source": [
    "import tensorflow as tf\n",
    "x = tf.constant(4.0 , dtype = tf.float64)\n",
    "print(x.dtype)"
   ]
  },
  {
   "cell_type": "markdown",
   "id": "6968e8ee",
   "metadata": {},
   "source": [
    "# Casting"
   ]
  },
  {
   "cell_type": "code",
   "execution_count": 11,
   "id": "5b5dfa81",
   "metadata": {
    "scrolled": true
   },
   "outputs": [
    {
     "ename": "TypeError",
     "evalue": "Input 'y' of 'AddV2' Op has type float64 that does not match type int64 of argument 'x'.",
     "output_type": "error",
     "traceback": [
      "\u001b[0;31m---------------------------------------------------------------------------\u001b[0m",
      "\u001b[0;31mValueError\u001b[0m                                Traceback (most recent call last)",
      "\u001b[0;32m~/envs/tensorflow/lib/python3.8/site-packages/tensorflow/python/ops/math_ops.py\u001b[0m in \u001b[0;36mbinary_op_wrapper\u001b[0;34m(x, y)\u001b[0m\n\u001b[1;32m   1377\u001b[0m             \u001b[0mr_op\u001b[0m \u001b[0;34m=\u001b[0m \u001b[0mgetattr\u001b[0m\u001b[0;34m(\u001b[0m\u001b[0my\u001b[0m\u001b[0;34m,\u001b[0m \u001b[0;34m\"__r%s__\"\u001b[0m \u001b[0;34m%\u001b[0m \u001b[0mop_name\u001b[0m\u001b[0;34m)\u001b[0m\u001b[0;34m\u001b[0m\u001b[0;34m\u001b[0m\u001b[0m\n\u001b[0;32m-> 1378\u001b[0;31m             \u001b[0mout\u001b[0m \u001b[0;34m=\u001b[0m \u001b[0mr_op\u001b[0m\u001b[0;34m(\u001b[0m\u001b[0mx\u001b[0m\u001b[0;34m)\u001b[0m\u001b[0;34m\u001b[0m\u001b[0;34m\u001b[0m\u001b[0m\n\u001b[0m\u001b[1;32m   1379\u001b[0m             \u001b[0;32mif\u001b[0m \u001b[0mout\u001b[0m \u001b[0;32mis\u001b[0m \u001b[0mNotImplemented\u001b[0m\u001b[0;34m:\u001b[0m\u001b[0;34m\u001b[0m\u001b[0;34m\u001b[0m\u001b[0m\n",
      "\u001b[0;32m~/envs/tensorflow/lib/python3.8/site-packages/tensorflow/python/ops/math_ops.py\u001b[0m in \u001b[0;36mr_binary_op_wrapper\u001b[0;34m(y, x)\u001b[0m\n\u001b[1;32m   1398\u001b[0m       \u001b[0;31m#   r_binary_op_wrapper use different force_same_dtype values.\u001b[0m\u001b[0;34m\u001b[0m\u001b[0;34m\u001b[0m\u001b[0;34m\u001b[0m\u001b[0m\n\u001b[0;32m-> 1399\u001b[0;31m       \u001b[0my\u001b[0m\u001b[0;34m,\u001b[0m \u001b[0mx\u001b[0m \u001b[0;34m=\u001b[0m \u001b[0mmaybe_promote_tensors\u001b[0m\u001b[0;34m(\u001b[0m\u001b[0my\u001b[0m\u001b[0;34m,\u001b[0m \u001b[0mx\u001b[0m\u001b[0;34m)\u001b[0m\u001b[0;34m\u001b[0m\u001b[0;34m\u001b[0m\u001b[0m\n\u001b[0m\u001b[1;32m   1400\u001b[0m       \u001b[0;32mreturn\u001b[0m \u001b[0mfunc\u001b[0m\u001b[0;34m(\u001b[0m\u001b[0mx\u001b[0m\u001b[0;34m,\u001b[0m \u001b[0my\u001b[0m\u001b[0;34m,\u001b[0m \u001b[0mname\u001b[0m\u001b[0;34m=\u001b[0m\u001b[0mname\u001b[0m\u001b[0;34m)\u001b[0m\u001b[0;34m\u001b[0m\u001b[0;34m\u001b[0m\u001b[0m\n",
      "\u001b[0;32m~/envs/tensorflow/lib/python3.8/site-packages/tensorflow/python/ops/math_ops.py\u001b[0m in \u001b[0;36mmaybe_promote_tensors\u001b[0;34m(force_same_dtype, *tensors)\u001b[0m\n\u001b[1;32m   1334\u001b[0m       promoted_tensors.append(\n\u001b[0;32m-> 1335\u001b[0;31m           ops.convert_to_tensor(tensor, dtype, name=\"x\"))\n\u001b[0m\u001b[1;32m   1336\u001b[0m     \u001b[0;32mreturn\u001b[0m \u001b[0mpromoted_tensors\u001b[0m\u001b[0;34m\u001b[0m\u001b[0;34m\u001b[0m\u001b[0m\n",
      "\u001b[0;32m~/envs/tensorflow/lib/python3.8/site-packages/tensorflow/python/profiler/trace.py\u001b[0m in \u001b[0;36mwrapped\u001b[0;34m(*args, **kwargs)\u001b[0m\n\u001b[1;32m    162\u001b[0m           \u001b[0;32mreturn\u001b[0m \u001b[0mfunc\u001b[0m\u001b[0;34m(\u001b[0m\u001b[0;34m*\u001b[0m\u001b[0margs\u001b[0m\u001b[0;34m,\u001b[0m \u001b[0;34m**\u001b[0m\u001b[0mkwargs\u001b[0m\u001b[0;34m)\u001b[0m\u001b[0;34m\u001b[0m\u001b[0;34m\u001b[0m\u001b[0m\n\u001b[0;32m--> 163\u001b[0;31m       \u001b[0;32mreturn\u001b[0m \u001b[0mfunc\u001b[0m\u001b[0;34m(\u001b[0m\u001b[0;34m*\u001b[0m\u001b[0margs\u001b[0m\u001b[0;34m,\u001b[0m \u001b[0;34m**\u001b[0m\u001b[0mkwargs\u001b[0m\u001b[0;34m)\u001b[0m\u001b[0;34m\u001b[0m\u001b[0;34m\u001b[0m\u001b[0m\n\u001b[0m\u001b[1;32m    164\u001b[0m \u001b[0;34m\u001b[0m\u001b[0m\n",
      "\u001b[0;32m~/envs/tensorflow/lib/python3.8/site-packages/tensorflow/python/framework/ops.py\u001b[0m in \u001b[0;36mconvert_to_tensor\u001b[0;34m(value, dtype, name, as_ref, preferred_dtype, dtype_hint, ctx, accepted_result_types)\u001b[0m\n\u001b[1;32m   1532\u001b[0m     \u001b[0;32mif\u001b[0m \u001b[0mdtype\u001b[0m \u001b[0;32mis\u001b[0m \u001b[0;32mnot\u001b[0m \u001b[0;32mNone\u001b[0m \u001b[0;32mand\u001b[0m \u001b[0;32mnot\u001b[0m \u001b[0mdtype\u001b[0m\u001b[0;34m.\u001b[0m\u001b[0mis_compatible_with\u001b[0m\u001b[0;34m(\u001b[0m\u001b[0mvalue\u001b[0m\u001b[0;34m.\u001b[0m\u001b[0mdtype\u001b[0m\u001b[0;34m)\u001b[0m\u001b[0;34m:\u001b[0m\u001b[0;34m\u001b[0m\u001b[0;34m\u001b[0m\u001b[0m\n\u001b[0;32m-> 1533\u001b[0;31m       raise ValueError(\n\u001b[0m\u001b[1;32m   1534\u001b[0m           \u001b[0;34m\"Tensor conversion requested dtype %s for Tensor with dtype %s: %r\"\u001b[0m \u001b[0;34m%\u001b[0m\u001b[0;34m\u001b[0m\u001b[0;34m\u001b[0m\u001b[0m\n",
      "\u001b[0;31mValueError\u001b[0m: Tensor conversion requested dtype float64 for Tensor with dtype int64: <tf.Tensor 'Const_12:0' shape=() dtype=int64>",
      "\nDuring handling of the above exception, another exception occurred:\n",
      "\u001b[0;31mTypeError\u001b[0m                                 Traceback (most recent call last)",
      "\u001b[0;32m/tmp/ipykernel_9297/3012218633.py\u001b[0m in \u001b[0;36m<module>\u001b[0;34m\u001b[0m\n\u001b[1;32m      2\u001b[0m \u001b[0mx\u001b[0m \u001b[0;34m=\u001b[0m \u001b[0mtf\u001b[0m\u001b[0;34m.\u001b[0m\u001b[0mconstant\u001b[0m\u001b[0;34m(\u001b[0m\u001b[0;36m4\u001b[0m \u001b[0;34m,\u001b[0m \u001b[0mdtype\u001b[0m \u001b[0;34m=\u001b[0m \u001b[0mtf\u001b[0m\u001b[0;34m.\u001b[0m\u001b[0mint64\u001b[0m\u001b[0;34m)\u001b[0m\u001b[0;34m\u001b[0m\u001b[0;34m\u001b[0m\u001b[0m\n\u001b[1;32m      3\u001b[0m \u001b[0my\u001b[0m \u001b[0;34m=\u001b[0m \u001b[0mtf\u001b[0m\u001b[0;34m.\u001b[0m\u001b[0mconstant\u001b[0m\u001b[0;34m(\u001b[0m\u001b[0;36m4.0\u001b[0m \u001b[0;34m,\u001b[0m \u001b[0mdtype\u001b[0m \u001b[0;34m=\u001b[0m \u001b[0mtf\u001b[0m\u001b[0;34m.\u001b[0m\u001b[0mfloat64\u001b[0m\u001b[0;34m)\u001b[0m\u001b[0;34m\u001b[0m\u001b[0;34m\u001b[0m\u001b[0m\n\u001b[0;32m----> 4\u001b[0;31m \u001b[0mz\u001b[0m \u001b[0;34m=\u001b[0m \u001b[0mx\u001b[0m\u001b[0;34m+\u001b[0m\u001b[0my\u001b[0m\u001b[0;34m\u001b[0m\u001b[0;34m\u001b[0m\u001b[0m\n\u001b[0m\u001b[1;32m      5\u001b[0m \u001b[0;32mwith\u001b[0m \u001b[0mtf\u001b[0m\u001b[0;34m.\u001b[0m\u001b[0mcompat\u001b[0m\u001b[0;34m.\u001b[0m\u001b[0mv1\u001b[0m\u001b[0;34m.\u001b[0m\u001b[0mSession\u001b[0m\u001b[0;34m(\u001b[0m\u001b[0;34m)\u001b[0m \u001b[0;32mas\u001b[0m \u001b[0msess\u001b[0m\u001b[0;34m:\u001b[0m\u001b[0;34m\u001b[0m\u001b[0;34m\u001b[0m\u001b[0m\n\u001b[1;32m      6\u001b[0m     \u001b[0mouts\u001b[0m \u001b[0;34m=\u001b[0m \u001b[0msess\u001b[0m\u001b[0;34m.\u001b[0m\u001b[0mrun\u001b[0m\u001b[0;34m(\u001b[0m\u001b[0mz\u001b[0m\u001b[0;34m)\u001b[0m\u001b[0;34m\u001b[0m\u001b[0;34m\u001b[0m\u001b[0m\n",
      "\u001b[0;32m~/envs/tensorflow/lib/python3.8/site-packages/tensorflow/python/ops/math_ops.py\u001b[0m in \u001b[0;36mbinary_op_wrapper\u001b[0;34m(x, y)\u001b[0m\n\u001b[1;32m   1381\u001b[0m             \u001b[0;32mreturn\u001b[0m \u001b[0mout\u001b[0m\u001b[0;34m\u001b[0m\u001b[0;34m\u001b[0m\u001b[0m\n\u001b[1;32m   1382\u001b[0m           \u001b[0;32mexcept\u001b[0m \u001b[0;34m(\u001b[0m\u001b[0mTypeError\u001b[0m\u001b[0;34m,\u001b[0m \u001b[0mValueError\u001b[0m\u001b[0;34m)\u001b[0m\u001b[0;34m:\u001b[0m\u001b[0;34m\u001b[0m\u001b[0;34m\u001b[0m\u001b[0m\n\u001b[0;32m-> 1383\u001b[0;31m             \u001b[0;32mraise\u001b[0m \u001b[0me\u001b[0m\u001b[0;34m\u001b[0m\u001b[0;34m\u001b[0m\u001b[0m\n\u001b[0m\u001b[1;32m   1384\u001b[0m         \u001b[0;32melse\u001b[0m\u001b[0;34m:\u001b[0m\u001b[0;34m\u001b[0m\u001b[0;34m\u001b[0m\u001b[0m\n\u001b[1;32m   1385\u001b[0m           \u001b[0;32mraise\u001b[0m\u001b[0;34m\u001b[0m\u001b[0;34m\u001b[0m\u001b[0m\n",
      "\u001b[0;32m~/envs/tensorflow/lib/python3.8/site-packages/tensorflow/python/ops/math_ops.py\u001b[0m in \u001b[0;36mbinary_op_wrapper\u001b[0;34m(x, y)\u001b[0m\n\u001b[1;32m   1365\u001b[0m         \u001b[0;31m#   r_binary_op_wrapper use different force_same_dtype values.\u001b[0m\u001b[0;34m\u001b[0m\u001b[0;34m\u001b[0m\u001b[0;34m\u001b[0m\u001b[0m\n\u001b[1;32m   1366\u001b[0m         \u001b[0mx\u001b[0m\u001b[0;34m,\u001b[0m \u001b[0my\u001b[0m \u001b[0;34m=\u001b[0m \u001b[0mmaybe_promote_tensors\u001b[0m\u001b[0;34m(\u001b[0m\u001b[0mx\u001b[0m\u001b[0;34m,\u001b[0m \u001b[0my\u001b[0m\u001b[0;34m,\u001b[0m \u001b[0mforce_same_dtype\u001b[0m\u001b[0;34m=\u001b[0m\u001b[0;32mFalse\u001b[0m\u001b[0;34m)\u001b[0m\u001b[0;34m\u001b[0m\u001b[0;34m\u001b[0m\u001b[0m\n\u001b[0;32m-> 1367\u001b[0;31m         \u001b[0;32mreturn\u001b[0m \u001b[0mfunc\u001b[0m\u001b[0;34m(\u001b[0m\u001b[0mx\u001b[0m\u001b[0;34m,\u001b[0m \u001b[0my\u001b[0m\u001b[0;34m,\u001b[0m \u001b[0mname\u001b[0m\u001b[0;34m=\u001b[0m\u001b[0mname\u001b[0m\u001b[0;34m)\u001b[0m\u001b[0;34m\u001b[0m\u001b[0;34m\u001b[0m\u001b[0m\n\u001b[0m\u001b[1;32m   1368\u001b[0m       \u001b[0;32mexcept\u001b[0m \u001b[0;34m(\u001b[0m\u001b[0mTypeError\u001b[0m\u001b[0;34m,\u001b[0m \u001b[0mValueError\u001b[0m\u001b[0;34m)\u001b[0m \u001b[0;32mas\u001b[0m \u001b[0me\u001b[0m\u001b[0;34m:\u001b[0m\u001b[0;34m\u001b[0m\u001b[0;34m\u001b[0m\u001b[0m\n\u001b[1;32m   1369\u001b[0m         \u001b[0;31m# Even if dispatching the op failed, the RHS may be a tensor aware\u001b[0m\u001b[0;34m\u001b[0m\u001b[0;34m\u001b[0m\u001b[0;34m\u001b[0m\u001b[0m\n",
      "\u001b[0;32m~/envs/tensorflow/lib/python3.8/site-packages/tensorflow/python/util/dispatch.py\u001b[0m in \u001b[0;36mwrapper\u001b[0;34m(*args, **kwargs)\u001b[0m\n\u001b[1;32m    204\u001b[0m     \u001b[0;34m\"\"\"Call target, and fall back on dispatchers if there is a TypeError.\"\"\"\u001b[0m\u001b[0;34m\u001b[0m\u001b[0;34m\u001b[0m\u001b[0m\n\u001b[1;32m    205\u001b[0m     \u001b[0;32mtry\u001b[0m\u001b[0;34m:\u001b[0m\u001b[0;34m\u001b[0m\u001b[0;34m\u001b[0m\u001b[0m\n\u001b[0;32m--> 206\u001b[0;31m       \u001b[0;32mreturn\u001b[0m \u001b[0mtarget\u001b[0m\u001b[0;34m(\u001b[0m\u001b[0;34m*\u001b[0m\u001b[0margs\u001b[0m\u001b[0;34m,\u001b[0m \u001b[0;34m**\u001b[0m\u001b[0mkwargs\u001b[0m\u001b[0;34m)\u001b[0m\u001b[0;34m\u001b[0m\u001b[0;34m\u001b[0m\u001b[0m\n\u001b[0m\u001b[1;32m    207\u001b[0m     \u001b[0;32mexcept\u001b[0m \u001b[0;34m(\u001b[0m\u001b[0mTypeError\u001b[0m\u001b[0;34m,\u001b[0m \u001b[0mValueError\u001b[0m\u001b[0;34m)\u001b[0m\u001b[0;34m:\u001b[0m\u001b[0;34m\u001b[0m\u001b[0;34m\u001b[0m\u001b[0m\n\u001b[1;32m    208\u001b[0m       \u001b[0;31m# Note: convert_to_eager_tensor currently raises a ValueError, not a\u001b[0m\u001b[0;34m\u001b[0m\u001b[0;34m\u001b[0m\u001b[0;34m\u001b[0m\u001b[0m\n",
      "\u001b[0;32m~/envs/tensorflow/lib/python3.8/site-packages/tensorflow/python/ops/math_ops.py\u001b[0m in \u001b[0;36m_add_dispatch\u001b[0;34m(x, y, name)\u001b[0m\n\u001b[1;32m   1698\u001b[0m     \u001b[0;32mreturn\u001b[0m \u001b[0mgen_math_ops\u001b[0m\u001b[0;34m.\u001b[0m\u001b[0madd\u001b[0m\u001b[0;34m(\u001b[0m\u001b[0mx\u001b[0m\u001b[0;34m,\u001b[0m \u001b[0my\u001b[0m\u001b[0;34m,\u001b[0m \u001b[0mname\u001b[0m\u001b[0;34m=\u001b[0m\u001b[0mname\u001b[0m\u001b[0;34m)\u001b[0m\u001b[0;34m\u001b[0m\u001b[0;34m\u001b[0m\u001b[0m\n\u001b[1;32m   1699\u001b[0m   \u001b[0;32melse\u001b[0m\u001b[0;34m:\u001b[0m\u001b[0;34m\u001b[0m\u001b[0;34m\u001b[0m\u001b[0m\n\u001b[0;32m-> 1700\u001b[0;31m     \u001b[0;32mreturn\u001b[0m \u001b[0mgen_math_ops\u001b[0m\u001b[0;34m.\u001b[0m\u001b[0madd_v2\u001b[0m\u001b[0;34m(\u001b[0m\u001b[0mx\u001b[0m\u001b[0;34m,\u001b[0m \u001b[0my\u001b[0m\u001b[0;34m,\u001b[0m \u001b[0mname\u001b[0m\u001b[0;34m=\u001b[0m\u001b[0mname\u001b[0m\u001b[0;34m)\u001b[0m\u001b[0;34m\u001b[0m\u001b[0;34m\u001b[0m\u001b[0m\n\u001b[0m\u001b[1;32m   1701\u001b[0m \u001b[0;34m\u001b[0m\u001b[0m\n\u001b[1;32m   1702\u001b[0m \u001b[0;34m\u001b[0m\u001b[0m\n",
      "\u001b[0;32m~/envs/tensorflow/lib/python3.8/site-packages/tensorflow/python/ops/gen_math_ops.py\u001b[0m in \u001b[0;36madd_v2\u001b[0;34m(x, y, name)\u001b[0m\n\u001b[1;32m    462\u001b[0m       \u001b[0;32mpass\u001b[0m  \u001b[0;31m# Add nodes to the TensorFlow graph.\u001b[0m\u001b[0;34m\u001b[0m\u001b[0;34m\u001b[0m\u001b[0m\n\u001b[1;32m    463\u001b[0m   \u001b[0;31m# Add nodes to the TensorFlow graph.\u001b[0m\u001b[0;34m\u001b[0m\u001b[0;34m\u001b[0m\u001b[0;34m\u001b[0m\u001b[0m\n\u001b[0;32m--> 464\u001b[0;31m   _, _, _op, _outputs = _op_def_library._apply_op_helper(\n\u001b[0m\u001b[1;32m    465\u001b[0m         \"AddV2\", x=x, y=y, name=name)\n\u001b[1;32m    466\u001b[0m   \u001b[0m_result\u001b[0m \u001b[0;34m=\u001b[0m \u001b[0m_outputs\u001b[0m\u001b[0;34m[\u001b[0m\u001b[0;34m:\u001b[0m\u001b[0;34m]\u001b[0m\u001b[0;34m\u001b[0m\u001b[0;34m\u001b[0m\u001b[0m\n",
      "\u001b[0;32m~/envs/tensorflow/lib/python3.8/site-packages/tensorflow/python/framework/op_def_library.py\u001b[0m in \u001b[0;36m_apply_op_helper\u001b[0;34m(op_type_name, name, **keywords)\u001b[0m\n\u001b[1;32m    553\u001b[0m                   \u001b[0minferred_from\u001b[0m\u001b[0;34m[\u001b[0m\u001b[0mk\u001b[0m\u001b[0;34m]\u001b[0m \u001b[0;34m=\u001b[0m \u001b[0;34m\"Default in OpDef\"\u001b[0m\u001b[0;34m\u001b[0m\u001b[0;34m\u001b[0m\u001b[0m\n\u001b[1;32m    554\u001b[0m \u001b[0;34m\u001b[0m\u001b[0m\n\u001b[0;32m--> 555\u001b[0;31m             raise TypeError(\n\u001b[0m\u001b[1;32m    556\u001b[0m                 \u001b[0;34m\"%s type %s of argument '%s'.\"\u001b[0m \u001b[0;34m%\u001b[0m\u001b[0;34m\u001b[0m\u001b[0;34m\u001b[0m\u001b[0m\n\u001b[1;32m    557\u001b[0m                 (prefix, dtypes.as_dtype(attrs[input_arg.type_attr]).name,\n",
      "\u001b[0;31mTypeError\u001b[0m: Input 'y' of 'AddV2' Op has type float64 that does not match type int64 of argument 'x'."
     ]
    }
   ],
   "source": [
    "import tensorflow as tf\n",
    "x = tf.constant(4 , dtype = tf.int64)\n",
    "y = tf.constant(4.0 , dtype = tf.float64)\n",
    "z = x+y\n",
    "with tf.compat.v1.Session() as sess:\n",
    "    outs = sess.run(z)\n",
    "print(\"Datatype Mismatch = {}\".format(outs))"
   ]
  },
  {
   "cell_type": "code",
   "execution_count": null,
   "id": "882c0a79",
   "metadata": {},
   "outputs": [],
   "source": [
    "import tensorflow as tf\n",
    "x = tf.constant(4 , dtype = tf.int32)\n",
    "y = tf.constant(5 , dtype = tf.int64)\n",
    "z = x + y\n",
    "with tf.compat.v1.Session() as sess:\n",
    "    outs = sess.run(z)\n",
    "print(\"Datatype mismatch = {}\".formats(outs))"
   ]
  },
  {
   "cell_type": "code",
   "execution_count": null,
   "id": "6570556d",
   "metadata": {
    "scrolled": false
   },
   "outputs": [],
   "source": [
    "import tensorflow as tf\n",
    "x = tf.constant([1 , 2 , 3, 4] , dtype = tf.float64)\n",
    "print(x.dtype)\n",
    "x = tf.cast(x ,tf.int64)\n",
    "print(x.dtype)"
   ]
  },
  {
   "cell_type": "code",
   "execution_count": null,
   "id": "e7027fd8",
   "metadata": {},
   "outputs": [],
   "source": [
    "import tensorflow as tf\n",
    "x = tf.constant(4 , dtype = tf.int64)\n",
    "y = tf.constant(4 , dtype = tf.int32)\n",
    "print(x.dtype , y.dtype)\n",
    "y = tf.cast(y , tf.int64)\n",
    "print(y.dtype)\n",
    "z = x+y\n",
    "print(z.dtype)\n",
    "with tf.compat.v1.Session() as sess:\n",
    "    fetches = [x , y , z ]\n",
    "    outs = sess.run(fetches)\n",
    "print(\"The result is = {}\".format(outs))"
   ]
  },
  {
   "cell_type": "markdown",
   "id": "ebaa1f82",
   "metadata": {},
   "source": [
    "# Tensor Arrays and Shapes"
   ]
  },
  {
   "cell_type": "code",
   "execution_count": null,
   "id": "56cf6a48",
   "metadata": {},
   "outputs": [],
   "source": [
    "import tensorflow as tf\n",
    "c = tf.constant([[1 , 2 , 3 ] , [4 , 5 , 6]])\n",
    "print(\"The Python List = {}\".format(c.get_shape()))"
   ]
  },
  {
   "cell_type": "code",
   "execution_count": null,
   "id": "231fb918",
   "metadata": {},
   "outputs": [],
   "source": [
    "import tensorflow as tf\n",
    "import numpy as np\n",
    "x = tf.constant([\n",
    "    [[1 , 2 , 3] , [4 , 5 , 6]] ,\n",
    "    [[7 , 8 , 9] , [10 , 11 , 12]]\n",
    "])\n",
    "print(\"The python list:{}\".format(x.get_shape()))"
   ]
  },
  {
   "cell_type": "code",
   "execution_count": null,
   "id": "c4e507a7",
   "metadata": {},
   "outputs": [],
   "source": [
    "import tensorflow as tf\n",
    "c = tf.constant(np.array([\n",
    "    [1 , 2 , 3] , [4 , 5 , 6]\n",
    "]))\n",
    "print(\"The numpy array={}\".format(c.get_shape()))"
   ]
  },
  {
   "cell_type": "code",
   "execution_count": null,
   "id": "68d1fe54",
   "metadata": {},
   "outputs": [],
   "source": [
    "import tensorflow as tf\n",
    "x = tf.constant(np.array([\n",
    "     [[1 , 2 , 3] , [4 , 5 , 6]] ,\n",
    "    [[7 , 8 , 9] , [10 , 11 , 12]]\n",
    "])) # two to 2*3 matrix\n",
    "print(\"The numpy array={}\".format(x.get_shape()))\n",
    "print(\"The shape={}\".format(x.shape))"
   ]
  },
  {
   "cell_type": "markdown",
   "id": "6d2e6774",
   "metadata": {},
   "source": [
    "# Matrix Mulitplication"
   ]
  },
  {
   "cell_type": "code",
   "execution_count": null,
   "id": "8343f430",
   "metadata": {},
   "outputs": [],
   "source": [
    "# Matrix multiplication is not an element wise operator\n",
    "# element wise operator means doing some operation element by element \n",
    "import tensorflow as tf\n",
    "x = tf.constant([\n",
    "    [1 , 2 , 3 ] ,\n",
    "    [4 , 5 , 6]\n",
    "])\n",
    "\n",
    "y = tf.constant([\n",
    "    [3 , 2 , 1] ,\n",
    "    [5 , 4 , 6]\n",
    "])\n",
    "\n",
    "z = tf.multiply(x , y) # this is element wise , multiply it element by element\n",
    "with tf.compat.v1.Session() as sess:\n",
    "    outs = sess.run(z)\n",
    "print(\"The output is  = \\n{}\".format(outs))\n"
   ]
  },
  {
   "cell_type": "code",
   "execution_count": null,
   "id": "f4930831",
   "metadata": {},
   "outputs": [],
   "source": [
    "import tensorflow as tf\n",
    "x = tf.constant([\n",
    "    [1 , 2 , 3],\n",
    "    [4 , 5 , 6 ],\n",
    "    [7 , 8 , 9]\n",
    "    \n",
    "])\n",
    "y = tf.constant([\n",
    "    [1 , 2],\n",
    "    [3 , 4],\n",
    "    [4 , 5]\n",
    "])\n",
    "\n",
    "print(\"The shape of x = {}\".format(x.get_shape()))\n",
    "print(\"The shape of y = {}\".format(y.get_shape()))\n",
    "# we can use the matrix multiplication\n",
    "with tf.compat.v1.Session() as sess:\n",
    "    math = tf.matmul(x , y)\n",
    "    run_math = sess.run(math)\n",
    "print(\"The matrix multiplcation={}\".format(run_math))\n"
   ]
  },
  {
   "cell_type": "markdown",
   "id": "f9aafc34",
   "metadata": {},
   "source": [
    "# Transpose of a Matrix "
   ]
  },
  {
   "cell_type": "code",
   "execution_count": null,
   "id": "d15f4b00",
   "metadata": {},
   "outputs": [],
   "source": [
    "import tensorflow as tf\n",
    "import numpy as np\n",
    "x = tf.constant(np.array([\n",
    "    [1 , 2 ] ,\n",
    "    [3 , 4] ,\n",
    "    [5 , 6]\n",
    "]))\n",
    "print(\"The shape is ={}\".format(x.shape))\n",
    "trans = tf.matmul(x , tf.transpose(x))\n",
    "print('The transpose shape = {}'.format(trans.shape))\n",
    "with tf.compat.v1.Session() as sess:\n",
    "    outs = sess.run(trans)\n",
    "print(\"The Transpose Matrix = \\n {}\".format(outs))"
   ]
  },
  {
   "cell_type": "markdown",
   "id": "29710a5b",
   "metadata": {},
   "source": [
    "# Names of the Tensor object"
   ]
  },
  {
   "cell_type": "code",
   "execution_count": null,
   "id": "90ed4600",
   "metadata": {
    "scrolled": true
   },
   "outputs": [],
   "source": [
    "import tensorflow as tf\n",
    "a = tf.constant(4.0 , dtype = tf.float64 , name = 'c')\n",
    "b = tf.constant(5 , dtype = tf.int64 , name = 'c')\n",
    "print(a.name)\n",
    "print(b.name)\n",
    "x = tf.constant(6.0 , dtype = tf.float64 , name='a')\n",
    "y = tf.constant(7 , dtype = tf.int64 , name='b')\n",
    "print(x.name)\n",
    "print(y.name)"
   ]
  },
  {
   "cell_type": "markdown",
   "id": "32f8aebf",
   "metadata": {},
   "source": [
    "# Name scopes"
   ]
  },
  {
   "cell_type": "code",
   "execution_count": null,
   "id": "4bc202cf",
   "metadata": {},
   "outputs": [],
   "source": [
    "import tensorflow as tf\n",
    "x = tf.Graph()\n",
    "y = tf.compat.v1.get_default_graph()\n",
    "c = tf.constant(4)\n",
    "print(c.graph is x)\n",
    "print(c.graph is tf.compat.v1.get_default_graph())\n",
    "with x.as_default():\n",
    "    a = tf.constant(4.0 , dtype = tf.float64 , name = 'c')\n",
    "    with tf.name_scope(\"prefix_name\"):\n",
    "        b = tf.constant(5.0 , dtype = tf.float64 , name = 'c')\n",
    "        d = tf.constant(4 , dtype = tf.int64 , name = 'c')\n",
    "print(a.name)\n",
    "print(b.name)\n",
    "print(d.name)\n"
   ]
  },
  {
   "cell_type": "markdown",
   "id": "30efd21b",
   "metadata": {},
   "source": [
    "# Keras Low Level API"
   ]
  },
  {
   "cell_type": "code",
   "execution_count": null,
   "id": "08e1a31a",
   "metadata": {},
   "outputs": [],
   "source": [
    "import tensorflow as tf\n",
    "from tensorflow import keras\n",
    "trans = tf.constant(np.array([\n",
    "    [1 , 2] , \n",
    "    [3 , 4] , \n",
    "    [5 , 6]\n",
    "]))\n",
    "k = keras.backend\n",
    "addition = tf.add(k.square(k.transpose(trans)) , 10 )\n",
    "with tf.compat.v1.Session() as sess:\n",
    "    outs = sess.run(addition)\n",
    "print('The result is = \\n {}'.format(outs))"
   ]
  },
  {
   "cell_type": "markdown",
   "id": "2b7b04f3",
   "metadata": {},
   "source": [
    "# Variables "
   ]
  },
  {
   "cell_type": "code",
   "execution_count": null,
   "id": "fff8a1c6",
   "metadata": {},
   "outputs": [],
   "source": [
    "import tensorflow as tf\n",
    "x = tf.constant([1 , 2 , 3 , 4])\n",
    "with tf.compat.v1.Session() as sess:\n",
    "    outs = sess.run(x+10)\n",
    "    outs2= sess.run(x)\n",
    "print(\"The output is = {}\".format(outs))\n",
    "print(\"Immutable tensor = {}\".format(outs2))    "
   ]
  },
  {
   "cell_type": "code",
   "execution_count": null,
   "id": "fd7f4540",
   "metadata": {},
   "outputs": [],
   "source": [
    "import tensorflow as tf\n",
    "tensor =  tf.constant([1.0 , 2.0] , dtype = tf.float64 , name = 'tensor')\n",
    "print(tensor)\n",
    "# let's try to update our tensor\n",
    "tensor[0] = 4"
   ]
  },
  {
   "cell_type": "code",
   "execution_count": null,
   "id": "48889169",
   "metadata": {},
   "outputs": [],
   "source": [
    "# creating variables \n",
    "import tensorflow as tf\n",
    "tensor = tf.constant(4.0 , dtype = tf.float64 , name = 'tensor')\n",
    "variable = tf.Variable(tensor) # one of creating avariable\n",
    "#=======================================\n",
    "my_vars= tf.Variable([1 , 2 , 3 , 4])\n",
    "print(\"Pre run = {}\".format(my_vars))\n",
    "init = tf.compat.v1.global_variables_initializer() # allocate memory and set the initial values\n",
    "with tf.compat.v1.Session() as sess:\n",
    "    sess.run(init)\n",
    "    var_outs = sess.run(my_vars)\n",
    "print(\"post run = {}\".format(var_outs))"
   ]
  },
  {
   "cell_type": "code",
   "execution_count": null,
   "id": "837cc3ad",
   "metadata": {},
   "outputs": [],
   "source": [
    "# updating or increment and decrement\n",
    "import tensorflow as tf\n",
    "my_vars = tf.Variable([\n",
    "    [1 , 2 , 3] ,\n",
    "    [4 , 5 , 6]\n",
    "])\n",
    "\n",
    "print(\"Prerun = {}\".format(my_vars))\n",
    "init = tf.compat.v1.global_variables_initializer()\n",
    "sess = tf.compat.v1.Session()\n",
    "sess.run(init)\n",
    "outs = sess.run(my_vars)\n",
    "print(\"post run = \\n{}\".format(outs))\n",
    "\n",
    "# lets update it\n",
    "my_vars = my_vars.assign(my_vars * 20)\n",
    "update_vars= sess.run(my_vars)\n",
    "print(\"post run update = \\n {}\".format(update_vars))\n",
    "\n",
    "# let's increment\n",
    "my_vars  = my_vars.assign_add(my_vars + 10)\n",
    "increment_vars = sess.run(my_vars)\n",
    "print(\"post run increment = \\n {}\".format(increment_vars))\n",
    "\n",
    "# let's decrement \n",
    "my_vars  = my_vars.assign_sub(my_vars - 10)\n",
    "decrement_vars = sess.run(my_vars)\n",
    "print(\"post run  decrement = \\n {}\".format(decrement_vars))"
   ]
  },
  {
   "cell_type": "code",
   "execution_count": null,
   "id": "f3bc8908",
   "metadata": {},
   "outputs": [],
   "source": [
    "rank_4_tensor = tf.zeros([3, 2, 4])\n",
    "print(rank_4_tensor.shape)"
   ]
  },
  {
   "cell_type": "markdown",
   "id": "3aab1a69",
   "metadata": {},
   "source": [
    "# TensorFlow and Numpy"
   ]
  },
  {
   "cell_type": "code",
   "execution_count": null,
   "id": "e64e2358",
   "metadata": {},
   "outputs": [],
   "source": [
    "import tensorflow as tf\n",
    "import numpy as np\n",
    "np_numpy = np.array([1. , 2. , 3. , 4.])\n",
    "print(np_numpy.dtype)\n",
    "print(\"This is numpy= {}\".format(np_numpy))\n",
    "# change it to tensors\n",
    "np_numpy = np.array([1. , 2. , 3. , 4.] , dtype = np.float32) # we need to make to int32\n",
    "print(np_numpy.dtype)\n",
    "tensor = tf.constant(np_numpy)\n",
    "print(\"Numpy changed to Tensor = {}\".format(tensor))\n",
    "\n",
    "# change from tensor to numpy\n",
    "my_tensor = tf.constant([1. , 2. , 3. , 4.])\n",
    "print(\"This is tensor = {}\".format(my_tensor))\n",
    "# np_tensor = np.array(my_tensor)\n",
    "np_tensor = my_tensor.eval(session = tf.compat.v1.Session()) # This is TensorFlow 1.x\n",
    "#np_tensor = my_tensor.numpy() # this is Tensorflow 2.x\n",
    "print(\"Tensor changed to Numpy = {}\".format(np_tensor))"
   ]
  },
  {
   "cell_type": "markdown",
   "id": "498e8067",
   "metadata": {},
   "source": [
    "# Placeholders"
   ]
  },
  {
   "cell_type": "code",
   "execution_count": null,
   "id": "4142cb3c",
   "metadata": {},
   "outputs": [],
   "source": [
    "import tensorflow as tf\n",
    "import numpy as np\n",
    "\n",
    "x_data = np.random.randn(5 , 2)\n",
    "x = tf.compat.v1.placeholder(tf.float32 , shape = (5 , 2))\n",
    "y = tf.add(x , 2)\n",
    "with tf.compat.v1.Session() as sess:\n",
    "    outs = sess.run(y , feed_dict = {x:x_data})\n",
    "print(\"This is placeholder={}\".format(outs))"
   ]
  },
  {
   "cell_type": "code",
   "execution_count": null,
   "id": "4b9f9237",
   "metadata": {},
   "outputs": [],
   "source": [
    "import tensorflow as tf\n",
    "import numpy as np\n",
    "\n",
    "a = tf.Graph()\n",
    "z = tf.compat.v1.get_default_graph()\n",
    "c = tf.constant(4 , dtype = tf.int64 , name='c')\n",
    "print(c.graph is a)\n",
    "print(c.graph is z)\n",
    "\n",
    "with tf.Graph().as_default():\n",
    "    x_data = np.random.randn(5 , 3)\n",
    "    w_data = np.random.randn(3 , 1)\n",
    "    x = tf.compat.v1.placeholder(tf.float32 , shape= (5, 3))\n",
    "    w = tf.compat.v1.placeholder(tf.float32 , shape = (3 , 1))\n",
    "    xw = tf.matmul(x , w)\n",
    "    b = tf.fill((5 , 1) , 1.)\n",
    "    xwb = xw + b\n",
    "    s = tf.reduce_max(xwb)\n",
    "    with tf.compat.v1.Session() as sess:\n",
    "        outs = sess.run(s, feed_dict = {x:x_data , w:w_data})\n",
    "print(\"This is placeholder = {}\".format(outs))"
   ]
  },
  {
   "cell_type": "code",
   "execution_count": null,
   "id": "200c9118",
   "metadata": {},
   "outputs": [],
   "source": [
    "\n",
    "a = tf.Graph()\n",
    "z = tf.compat.v1.get_default_graph()\n",
    "c = tf.constant(4 , dtype = tf.int64 , name='c')\n",
    "print(c.graph is a)\n",
    "print(c.graph is z)\n",
    "\n",
    "with tf.Graph().as_default():\n",
    "    x_data = np.random.randn(5 , 3)\n",
    "    w_data = np.random.randn(3 , 1)\n",
    "    x = tf.compat.v1.placeholder(tf.float32 , shape= (None)) #any number of rows and columns\n",
    "    w = tf.compat.v1.placeholder(tf.float32 , shape = (None)) # any number of rows and columns\n",
    "    xw = tf.matmul(x , w)\n",
    "    b = tf.fill((5 , 1) , 1.)\n",
    "    xwb = xw + b\n",
    "    s = tf.reduce_max(xwb)\n",
    "    with tf.compat.v1.Session() as sess:\n",
    "        outs = sess.run(s, feed_dict = {x:x_data , w:w_data})\n",
    "print(\"This is placeholder = {}\".format(outs))"
   ]
  },
  {
   "cell_type": "code",
   "execution_count": null,
   "id": "ce11d2f2",
   "metadata": {},
   "outputs": [],
   "source": [
    "\n",
    "a = tf.Graph()\n",
    "z = tf.compat.v1.get_default_graph()\n",
    "c = tf.constant(4 , dtype = tf.int64 , name='c')\n",
    "print(c.graph is a)\n",
    "print(c.graph is z)\n",
    "\n",
    "with tf.Graph().as_default():\n",
    "    x_data = np.random.randn(5 , 3)\n",
    "    w_data = np.random.randn(3 , 1)\n",
    "    x = tf.compat.v1.placeholder(tf.float32 , shape= (None , 3)) # any number of rows \n",
    "    w = tf.compat.v1.placeholder(tf.float32 , shape = (3 , None)) # any number of columns\n",
    "    xw = tf.matmul(x , w)\n",
    "    b = tf.fill((5 , 1) , 1.) #fill the (5 , 1) dimension by 1\n",
    "    xwb = xw + b\n",
    "    s = tf.reduce_max(xwb) #choose the max from the vector\n",
    "    with tf.compat.v1.Session() as sess:\n",
    "        outs = sess.run(s, feed_dict = {x:x_data , w:w_data})\n",
    "print(\"This is placeholder = {}\".format(outs))"
   ]
  },
  {
   "cell_type": "markdown",
   "id": "6d360114",
   "metadata": {},
   "source": [
    "# Random Tensors"
   ]
  },
  {
   "cell_type": "code",
   "execution_count": null,
   "id": "15e6cf23",
   "metadata": {
    "scrolled": true
   },
   "outputs": [],
   "source": [
    "import tensorflow as tf\n",
    "random_1= tf.random.Generator.from_seed(42)\n",
    "random_1= random_1.normal(shape = (3 ,2))\n",
    "random_1"
   ]
  },
  {
   "cell_type": "markdown",
   "id": "5a6124fe",
   "metadata": {},
   "source": [
    "# Shuffling Tensors"
   ]
  },
  {
   "cell_type": "code",
   "execution_count": null,
   "id": "ff93a69c",
   "metadata": {},
   "outputs": [],
   "source": [
    "import tensorflow as tf\n",
    "random_1= tf.random.Generator.from_seed(42)\n",
    "random_1 = random_1.normal(shape = (3 , 2))\n",
    "tf.random.set_seed(42)\n",
    "tf.random.shuffle(random_1)"
   ]
  },
  {
   "cell_type": "code",
   "execution_count": null,
   "id": "53e363fd",
   "metadata": {},
   "outputs": [],
   "source": [
    "import tensorflow as tf\n",
    "unshuffled_tensor = tf.constant([\n",
    "    [1 , 2 , 3] , \n",
    "    [4 , 5 , 6] ,\n",
    "    [6 , 7 , 8]\n",
    "])\n",
    "tf.random.set_seed(42)\n",
    "print(tf.random.shuffle(unshuffled_tensor))"
   ]
  },
  {
   "cell_type": "markdown",
   "id": "1dc582f9",
   "metadata": {},
   "source": [
    "# Getting Information From The Tensors"
   ]
  },
  {
   "cell_type": "code",
   "execution_count": null,
   "id": "226811fc",
   "metadata": {},
   "outputs": [],
   "source": [
    "import tensorflow as tf\n",
    "tensors = tf.zeros(shape = [2 , 3 , 4 , 5])\n",
    "tensors"
   ]
  },
  {
   "cell_type": "code",
   "execution_count": null,
   "id": "85eec6cf",
   "metadata": {
    "scrolled": true
   },
   "outputs": [],
   "source": [
    "print(\"The shape of the tensor is  = {}\".format(tensors.shape))\n",
    "#print(\"The Rank of the tensor is = {}\".format(tensors.ndim))\n",
    "print(\"The shape of the first axis = {}\".format(tensors.shape[0]))\n",
    "print(\"The items in the first axis = {}\".format(tensors[0]))\n",
    "print(\"The size of the tensor is = {}\".format(tf.size(tensors)))"
   ]
  },
  {
   "cell_type": "code",
   "execution_count": null,
   "id": "48276e9a",
   "metadata": {},
   "outputs": [],
   "source": [
    "# Generate Random Numbers and Get their information\n",
    "import tensorflow as tf\n",
    "random_2= tf.random.Generator.from_seed(42)\n",
    "random_2= random_2.normal(shape = [2 , 3 , 4 , 5])\n",
    "random_2"
   ]
  },
  {
   "cell_type": "code",
   "execution_count": null,
   "id": "d9b20276",
   "metadata": {},
   "outputs": [],
   "source": [
    "print(\"The shape of our random tensor is  = {}\".format(random_2.shape))\n",
    "#print(\"The rank of our random tensor is = {}\".format(random_2.ndim))\n",
    "print(\"The shape of the second axis of the random tensor is = {}\".format(random_2.shape[1]))\n",
    "print(\"The elements of the second of the random tensor is =  \\n{}\".format(random_2[1]))\n",
    "print(\"The size of the random tensor is = {}\".format(tf.size(random_2)))"
   ]
  },
  {
   "cell_type": "markdown",
   "id": "6645fe19",
   "metadata": {},
   "source": [
    "# Indexing Tensors "
   ]
  },
  {
   "cell_type": "code",
   "execution_count": null,
   "id": "be78d9bc",
   "metadata": {},
   "outputs": [],
   "source": [
    "# single axis indexing\n",
    "import tensorflow as tf\n",
    "rank_tensor = tf.constant([0 , 1 , 1 , 2 , 3 , 5 , 8 , 13 , 21 , 34])\n",
    "rank_tensor1 = rank_tensor[:]\n",
    "rank_tensor2 = rank_tensor[:4]\n",
    "rank_tensor3 = rank_tensor[4:]\n",
    "rank_tensor4 =rank_tensor[2:7]\n",
    "rank_tensor5 = rank_tensor[1:4]\n",
    "rank_tensor6 = rank_tensor[-3:]\n",
    "\n",
    "with tf.compat.v1.Session() as sess:\n",
    "    fetches = [rank_tensor1 , rank_tensor2 , rank_tensor3,rank_tensor4,rank_tensor5,rank_tensor6]\n",
    "    outs = sess.run(fetches)\n",
    "print(\"The outputs = \\n{}\".format(outs))"
   ]
  },
  {
   "cell_type": "code",
   "execution_count": null,
   "id": "bc05c5a3",
   "metadata": {
    "scrolled": true
   },
   "outputs": [],
   "source": [
    "# two dimensional Indexing\n",
    "import tensorflow as tf\n",
    "two_D = tf.constant([\n",
    "    [1 , 2],\n",
    "    [3 , 4],\n",
    "    [5 , 6]\n",
    "])\n",
    "two_D1 = two_D[1 ,1]\n",
    "two_D2 = two_D[1 ,:]\n",
    "two_D3 = two_D[: ,1]\n",
    "two_D4 = two_D[-1,:]\n",
    "two_D5 = two_D[0,-1]\n",
    "two_D6 = two_D[1:,:]\n",
    "\n",
    "with tf.compat.v1.Session() as sess:\n",
    "    fetches = [two_D1 , two_D2 , two_D3 , two_D4 , two_D5 , two_D6]\n",
    "    outs = sess.run(fetches)\n",
    "print('The output is = \\n{}'.format(outs))"
   ]
  },
  {
   "cell_type": "code",
   "execution_count": null,
   "id": "c8c1e701",
   "metadata": {},
   "outputs": [],
   "source": [
    "# Three Dimensional\n",
    "import tensorflow as tf\n",
    "three_D = tf.constant([\n",
    "    [ [1 , 3 , 5 , 7],\n",
    "      [9 , 11 , 13 , 15]\n",
    "    ] , \n",
    "    [\n",
    "        [17 , 19 , 21 , 23] ,\n",
    "        [25 , 27 , 29 , 31]\n",
    "    ]\n",
    "])\n",
    "three_D1 = three_D[:1 , :1 , :]\n",
    "three_D2 = three_D[1 , : , :]\n",
    "\n",
    "with tf.compat.v1.Session() as sess:\n",
    "    fetches = [three_D1 , three_D2]\n",
    "    outs = sess.run(fetches)\n",
    "print(\"The output is = \\n{}\".format(outs))"
   ]
  },
  {
   "cell_type": "markdown",
   "id": "f1c9d88c",
   "metadata": {},
   "source": [
    "# Reshaping Tensors"
   ]
  },
  {
   "cell_type": "code",
   "execution_count": null,
   "id": "35ccc27d",
   "metadata": {},
   "outputs": [],
   "source": [
    "import tensorflow as tf\n",
    "x = tf.constant([\n",
    "    [1 , 2] ,\n",
    "    [4 , 5] ,\n",
    "    [3 , 2]\n",
    "])\n",
    "reshaped_x= tf.reshape(x , shape = (2 , 3))\n",
    "with tf.compat.v1.Session() as sess:\n",
    "    outs = sess.run(reshaped_x)\n",
    "print('The output is = \\n{}'.format(outs))"
   ]
  },
  {
   "cell_type": "code",
   "execution_count": null,
   "id": "f6ae0cd7",
   "metadata": {},
   "outputs": [],
   "source": [
    "# Matrix Multiplication using reshape and transpose \n",
    "import tensorflow as tf\n",
    "x = tf.constant([\n",
    "    [1 , 2 , 3],\n",
    "    [4 , 5 , 6]\n",
    "])\n",
    "y = tf.constant([\n",
    "    [3 , 2 , 5],\n",
    "    [5 , 4 , 6]\n",
    "])\n",
    "# I can't multiply this , either i need to reshape it or Transpose it\n",
    "y_transpose = tf.transpose(y) #changing the axis\n",
    "y_reshaped = tf.reshape(y , shape = (3 , 2)) # shuffle the data to this shape\n",
    "matrix_multiplication_transpose = tf.matmul(x , y_transpose)\n",
    "matrix_multiplication_reshape = tf.matmul(x , y_reshaped)\n",
    "with tf.compat.v1.Session() as sess:\n",
    "    outs1 = sess.run(matrix_multiplication_transpose)\n",
    "    outs2 = sess.run( matrix_multiplication_reshape)\n",
    "print(\"The output of matrix with transpose are = \\n{}\".format(outs1))\n",
    "print(\"The outputs of a matrix with reshape = \\n{}\".format(outs2))"
   ]
  },
  {
   "cell_type": "markdown",
   "id": "53941778",
   "metadata": {},
   "source": [
    "# Aggregating the Tensors "
   ]
  },
  {
   "cell_type": "code",
   "execution_count": null,
   "id": "223560ed",
   "metadata": {},
   "outputs": [],
   "source": [
    "# Aggregating tensors means a process of condensing multiple values in to something smaller\n",
    "# there are six basic aggregating functions\n",
    "            # Mean\n",
    "            # Sum\n",
    "            # Max\n",
    "            # Min\n",
    "            # Standard Deviation\n",
    "            # Variance"
   ]
  },
  {
   "cell_type": "code",
   "execution_count": null,
   "id": "1bf88bca",
   "metadata": {},
   "outputs": [],
   "source": [
    "import tensorflow as tf\n",
    "import numpy as np\n",
    "random_tensors = tf.random.Generator.from_seed(42)\n",
    "random_tensors = random_tensors.normal(shape = (2 , 3))\n",
    "tf.random.set_seed(42)\n",
    "random_tensors = tf.random.shuffle(random_tensors)\n",
    "print(random_tensors)"
   ]
  },
  {
   "cell_type": "code",
   "execution_count": null,
   "id": "42284689",
   "metadata": {},
   "outputs": [],
   "source": [
    "import tensorflow as tf\n",
    "import numpy as np\n",
    "the_mean = tf.reduce_mean(random_tensors)\n",
    "the_sum = tf.reduce_mean(random_tensors)\n",
    "the_max = np.argmax(random_tensors)\n",
    "the_max_tensor = tf.reduce_max(random_tensors)\n",
    "the_min = np.argmin(random_tensors)\n",
    "the_min_tensor = tf.reduce_min(random_tensors)\n",
    "print(\"The mean is = {}\".format(the_mean))\n",
    "print(\"The sum is = {}\".format(the_sum))\n",
    "print(\"The max in numpy is  = {}\".format(the_max)) # tells me the position of the max\n",
    "print(\"The max in tensor is = {}\".format(the_max_tensor)) # tells me the value of the max\n",
    "print(\"The min in the numpy is = {}\".format(the_min)) # tells me the position of the min\n",
    "print(\"The min in the tensor is = {}\".format(the_min_tensor)) # tells me the value of the min"
   ]
  },
  {
   "cell_type": "markdown",
   "id": "08ccc26d",
   "metadata": {},
   "source": [
    "# OneHot Encoding "
   ]
  },
  {
   "cell_type": "code",
   "execution_count": null,
   "id": "2bce4c7d",
   "metadata": {
    "scrolled": true
   },
   "outputs": [],
   "source": [
    "import tensorflow as tf\n",
    "category_indicies = [0 , 1 , 2 , 0 , 1]\n",
    "number_of_columns = 3\n",
    "inputs = tf.one_hot(category_indicies , number_of_columns)\n",
    "print(inputs)\n",
    "# with tf.compat.v1.Session() as sess:\n",
    "#     outs = sess.run(inputs)\n",
    "# print(\"The output is = {}\".format(outs))"
   ]
  },
  {
   "cell_type": "markdown",
   "id": "f85c9120",
   "metadata": {},
   "source": [
    "# Other Math Operations"
   ]
  },
  {
   "cell_type": "code",
   "execution_count": 24,
   "id": "0b1c20c4",
   "metadata": {},
   "outputs": [
    {
     "name": "stdout",
     "output_type": "stream",
     "text": [
      "The square of the number is = [ 1  4  9 16]\n",
      "The square root of the number is = [1.        1.4142135 1.7320508 2.       ]\n",
      "The logarithm of a number is = [0.        0.6931472 1.0986123 1.3862944]\n"
     ]
    }
   ],
   "source": [
    "import tensorflow as tf\n",
    "tensor = tf.constant([1 , 2 , 3  , 4 ])\n",
    "#calculating the square\n",
    "square = tf.square(tensor)\n",
    "# calculating the square root\n",
    "sqrt = tf.sqrt(tf.cast(tensor , tf.float32) )\n",
    "# calculating the log\n",
    "logarithm = tf.math.log(tf.cast(tensor , tf.float32))\n",
    "with tf.compat.v1.Session() as sess:\n",
    "    square_outs = sess.run(square)\n",
    "    sqrt_outs = sess.run(sqrt)\n",
    "    log_outs = sess.run(logarithm)\n",
    "print(\"The square of the number is = {}\".format(square_outs))\n",
    "print(\"The square root of the number is = {}\".format(sqrt_outs))\n",
    "print(\"The logarithm of a number is = {}\".format(log_outs))"
   ]
  },
  {
   "cell_type": "code",
   "execution_count": null,
   "id": "42018d60",
   "metadata": {},
   "outputs": [],
   "source": []
  }
 ],
 "metadata": {
  "kernelspec": {
   "display_name": "Python 3 (ipykernel)",
   "language": "python",
   "name": "python3"
  },
  "language_info": {
   "codemirror_mode": {
    "name": "ipython",
    "version": 3
   },
   "file_extension": ".py",
   "mimetype": "text/x-python",
   "name": "python",
   "nbconvert_exporter": "python",
   "pygments_lexer": "ipython3",
   "version": "3.8.8"
  }
 },
 "nbformat": 4,
 "nbformat_minor": 5
}
